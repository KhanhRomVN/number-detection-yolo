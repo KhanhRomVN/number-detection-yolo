{
 "cells": [
  {
   "cell_type": "code",
   "execution_count": 2,
   "metadata": {},
   "outputs": [
    {
     "name": "stderr",
     "output_type": "stream",
     "text": [
      "Đang chuyển đổi annotations train: 100%|██████████| 1032/1032 [00:00<00:00, 1458.92it/s]\n",
      "Đang sao chép ảnh train: 100%|██████████| 1032/1032 [00:07<00:00, 146.89it/s]\n",
      "Đang chuyển đổi annotations valid: 100%|██████████| 99/99 [00:00<00:00, 109.11it/s]\n",
      "Đang sao chép ảnh valid: 100%|██████████| 99/99 [00:00<00:00, 145.76it/s]"
     ]
    },
    {
     "name": "stdout",
     "output_type": "stream",
     "text": [
      "Chuẩn bị dataset hoàn tất.\n",
      "PRO TIP  Replace 'model=yolov5n.pt' with new 'model=yolov5nu.pt'.\n",
      "YOLOv5 'u' models are trained with https://github.com/ultralytics/ultralytics and feature improved performance vs standard YOLOv5 models trained with https://github.com/ultralytics/yolov5.\n",
      "\n"
     ]
    },
    {
     "name": "stderr",
     "output_type": "stream",
     "text": [
      "\n"
     ]
    },
    {
     "name": "stdout",
     "output_type": "stream",
     "text": [
      "New https://pypi.org/project/ultralytics/8.3.11 available  Update with 'pip install -U ultralytics'\n",
      "Ultralytics 8.3.10  Python-3.12.6 torch-2.4.1+cpu CPU (11th Gen Intel Core(TM) i7-1185G7 3.00GHz)\n",
      "\u001b[34m\u001b[1mengine\\trainer: \u001b[0mtask=detect, mode=train, model=yolov5n.pt, data=d:\\Coding\\number-detection-yolo\\data\\processed\\dataset.yaml, epochs=50, time=None, patience=10, batch=16, imgsz=640, save=True, save_period=-1, cache=False, device=cpu, workers=2, project=d:\\Coding\\number-detection-yolo\\models, name=number_detection, exist_ok=False, pretrained=True, optimizer=Adam, verbose=True, seed=0, deterministic=True, single_cls=False, rect=False, cos_lr=False, close_mosaic=10, resume=False, amp=True, fraction=1.0, profile=False, freeze=None, multi_scale=False, overlap_mask=True, mask_ratio=4, dropout=0.0, val=True, split=val, save_json=False, save_hybrid=False, conf=None, iou=0.7, max_det=300, half=False, dnn=False, plots=True, source=None, vid_stride=1, stream_buffer=False, visualize=False, augment=False, agnostic_nms=False, classes=None, retina_masks=False, embed=None, show=False, save_frames=False, save_txt=False, save_conf=False, save_crop=False, show_labels=True, show_conf=True, show_boxes=True, line_width=None, format=torchscript, keras=False, optimize=False, int8=False, dynamic=False, simplify=True, opset=None, workspace=4, nms=False, lr0=0.001, lrf=0.01, momentum=0.937, weight_decay=0.0005, warmup_epochs=3, warmup_momentum=0.8, warmup_bias_lr=0.1, box=7.5, cls=0.5, dfl=1.5, pose=12.0, kobj=1.0, label_smoothing=0.0, nbs=64, hsv_h=0.015, hsv_s=0.7, hsv_v=0.4, degrees=0.0, translate=0.1, scale=0.5, shear=0.0, perspective=0.0, flipud=0.0, fliplr=0.5, bgr=0.0, mosaic=0.5, mixup=0.0, copy_paste=0.0, copy_paste_mode=flip, auto_augment=randaugment, erasing=0.4, crop_fraction=1.0, cfg=None, tracker=botsort.yaml, save_dir=d:\\Coding\\number-detection-yolo\\models\\number_detection\n",
      "Overriding model.yaml nc=80 with nc=10\n",
      "\n",
      "                   from  n    params  module                                       arguments                     \n",
      "  0                  -1  1      1760  ultralytics.nn.modules.conv.Conv             [3, 16, 6, 2, 2]              \n",
      "  1                  -1  1      4672  ultralytics.nn.modules.conv.Conv             [16, 32, 3, 2]                \n",
      "  2                  -1  1      4800  ultralytics.nn.modules.block.C3              [32, 32, 1]                   \n",
      "  3                  -1  1     18560  ultralytics.nn.modules.conv.Conv             [32, 64, 3, 2]                \n",
      "  4                  -1  2     29184  ultralytics.nn.modules.block.C3              [64, 64, 2]                   \n",
      "  5                  -1  1     73984  ultralytics.nn.modules.conv.Conv             [64, 128, 3, 2]               \n",
      "  6                  -1  3    156928  ultralytics.nn.modules.block.C3              [128, 128, 3]                 \n",
      "  7                  -1  1    295424  ultralytics.nn.modules.conv.Conv             [128, 256, 3, 2]              \n",
      "  8                  -1  1    296448  ultralytics.nn.modules.block.C3              [256, 256, 1]                 \n",
      "  9                  -1  1    164608  ultralytics.nn.modules.block.SPPF            [256, 256, 5]                 \n",
      " 10                  -1  1     33024  ultralytics.nn.modules.conv.Conv             [256, 128, 1, 1]              \n",
      " 11                  -1  1         0  torch.nn.modules.upsampling.Upsample         [None, 2, 'nearest']          \n",
      " 12             [-1, 6]  1         0  ultralytics.nn.modules.conv.Concat           [1]                           \n",
      " 13                  -1  1     90880  ultralytics.nn.modules.block.C3              [256, 128, 1, False]          \n",
      " 14                  -1  1      8320  ultralytics.nn.modules.conv.Conv             [128, 64, 1, 1]               \n",
      " 15                  -1  1         0  torch.nn.modules.upsampling.Upsample         [None, 2, 'nearest']          \n",
      " 16             [-1, 4]  1         0  ultralytics.nn.modules.conv.Concat           [1]                           \n",
      " 17                  -1  1     22912  ultralytics.nn.modules.block.C3              [128, 64, 1, False]           \n",
      " 18                  -1  1     36992  ultralytics.nn.modules.conv.Conv             [64, 64, 3, 2]                \n",
      " 19            [-1, 14]  1         0  ultralytics.nn.modules.conv.Concat           [1]                           \n",
      " 20                  -1  1     74496  ultralytics.nn.modules.block.C3              [128, 128, 1, False]          \n",
      " 21                  -1  1    147712  ultralytics.nn.modules.conv.Conv             [128, 128, 3, 2]              \n",
      " 22            [-1, 10]  1         0  ultralytics.nn.modules.conv.Concat           [1]                           \n",
      " 23                  -1  1    296448  ultralytics.nn.modules.block.C3              [256, 256, 1, False]          \n",
      " 24        [17, 20, 23]  1    432622  ultralytics.nn.modules.head.Detect           [10, [64, 128, 256]]          \n",
      "YOLOv5n summary: 286 layers, 2,189,774 parameters, 2,189,758 gradients, 5.9 GFLOPs\n",
      "\n",
      "Transferred 385/463 items from pretrained weights\n",
      "Freezing layer 'model.24.dfl.conv.weight'\n"
     ]
    },
    {
     "name": "stderr",
     "output_type": "stream",
     "text": [
      "\u001b[34m\u001b[1mtrain: \u001b[0mScanning D:\\Coding\\number-detection-yolo\\data\\processed\\train... 1032 images, 0 backgrounds, 0 corrupt: 100%|██████████| 1032/1032 [00:03<00:00, 303.85it/s]\n"
     ]
    },
    {
     "name": "stdout",
     "output_type": "stream",
     "text": [
      "\u001b[34m\u001b[1mtrain: \u001b[0mNew cache created: D:\\Coding\\number-detection-yolo\\data\\processed\\train.cache\n"
     ]
    },
    {
     "name": "stderr",
     "output_type": "stream",
     "text": [
      "\u001b[34m\u001b[1mval: \u001b[0mScanning D:\\Coding\\number-detection-yolo\\data\\processed\\valid... 99 images, 0 backgrounds, 0 corrupt: 100%|██████████| 99/99 [00:00<00:00, 358.95it/s]\n"
     ]
    },
    {
     "name": "stdout",
     "output_type": "stream",
     "text": [
      "\u001b[34m\u001b[1mval: \u001b[0mNew cache created: D:\\Coding\\number-detection-yolo\\data\\processed\\valid.cache\n",
      "Plotting labels to d:\\Coding\\number-detection-yolo\\models\\number_detection\\labels.jpg... \n",
      "\u001b[34m\u001b[1moptimizer:\u001b[0m Adam(lr=0.001, momentum=0.937) with parameter groups 75 weight(decay=0.0), 82 weight(decay=0.0005), 81 bias(decay=0.0)\n",
      "Image sizes 640 train, 640 val\n",
      "Using 0 dataloader workers\n",
      "Logging results to \u001b[1md:\\Coding\\number-detection-yolo\\models\\number_detection\u001b[0m\n",
      "Starting training for 50 epochs...\n",
      "\n",
      "      Epoch    GPU_mem   box_loss   cls_loss   dfl_loss  Instances       Size\n"
     ]
    },
    {
     "name": "stderr",
     "output_type": "stream",
     "text": [
      "       1/50         0G      2.103      4.518      1.953        112        640:   6%|▌         | 4/65 [00:19<04:46,  4.69s/it]"
     ]
    }
   ],
   "source": [
    "import os\n",
    "import xml.etree.ElementTree as ET\n",
    "import glob\n",
    "from tqdm import tqdm\n",
    "import shutil\n",
    "import yaml\n",
    "from ultralytics import YOLO\n",
    "\n",
    "# Thiết lập đường dẫn\n",
    "PROJECT_DIR = os.path.abspath(os.path.join(os.getcwd(), '..'))\n",
    "DATA_DIR = os.path.join(PROJECT_DIR, \"data\")\n",
    "RAW_DIR = os.path.join(DATA_DIR, \"raw\")\n",
    "PROCESSED_DIR = os.path.join(DATA_DIR, \"processed\")\n",
    "MODEL_DIR = os.path.join(PROJECT_DIR, \"models\")\n",
    "\n",
    "# Tạo thư mục processed và models nếu chưa tồn tại\n",
    "os.makedirs(PROCESSED_DIR, exist_ok=True)\n",
    "os.makedirs(MODEL_DIR, exist_ok=True)\n",
    "\n",
    "# Hàm chuyển đổi annotation từ XML sang định dạng YOLO\n",
    "def convert_annotation(xml_file, class_map):\n",
    "    tree = ET.parse(xml_file)\n",
    "    root = tree.getroot()\n",
    "    \n",
    "    size = root.find('size')\n",
    "    w = int(size.find('width').text)\n",
    "    h = int(size.find('height').text)\n",
    "    \n",
    "    out_file = xml_file.replace('.xml', '.txt').replace(RAW_DIR, PROCESSED_DIR)\n",
    "    \n",
    "    with open(out_file, 'w') as f:\n",
    "        for obj in root.iter('object'):\n",
    "            cls = obj.find('name').text\n",
    "            if cls not in class_map:\n",
    "                continue\n",
    "            cls_id = class_map[cls]\n",
    "            xmlbox = obj.find('bndbox')\n",
    "            b = (float(xmlbox.find('xmin').text), float(xmlbox.find('xmax').text), float(xmlbox.find('ymin').text), float(xmlbox.find('ymax').text))\n",
    "            bb = ((b[0] + b[1]) / 2 / w, (b[2] + b[3]) / 2 / h, (b[1] - b[0]) / w, (b[3] - b[2]) / h)\n",
    "            f.write(f\"{cls_id} {bb[0]:.6f} {bb[1]:.6f} {bb[2]:.6f} {bb[3]:.6f}\\n\")\n",
    "\n",
    "# Lấy tất cả các lớp\n",
    "classes = set()\n",
    "for xml_file in glob.glob(os.path.join(RAW_DIR, \"train\", \"*.xml\")):\n",
    "    tree = ET.parse(xml_file)\n",
    "    root = tree.getroot()\n",
    "    for obj in root.iter('object'):\n",
    "        classes.add(obj.find('name').text)\n",
    "\n",
    "class_map = {cls: idx for idx, cls in enumerate(sorted(classes))}\n",
    "\n",
    "# Chuyển đổi annotations và sao chép ảnh\n",
    "for subset in ['train', 'valid']:\n",
    "    os.makedirs(os.path.join(PROCESSED_DIR, subset), exist_ok=True)\n",
    "    for xml_file in tqdm(glob.glob(os.path.join(RAW_DIR, subset, \"*.xml\")), desc=f\"Đang chuyển đổi annotations {subset}\"):\n",
    "        convert_annotation(xml_file, class_map)\n",
    "        \n",
    "    for img_file in tqdm(glob.glob(os.path.join(RAW_DIR, subset, \"*.jpg\")), desc=f\"Đang sao chép ảnh {subset}\"):\n",
    "        shutil.copy(img_file, os.path.join(PROCESSED_DIR, subset))\n",
    "\n",
    "# Tạo file dataset.yaml\n",
    "dataset_config = {\n",
    "    'path': PROCESSED_DIR,\n",
    "    'train': os.path.join(PROCESSED_DIR, 'train'),\n",
    "    'val': os.path.join(PROCESSED_DIR, 'valid'),\n",
    "    'nc': len(class_map),\n",
    "    'names': list(class_map.keys())\n",
    "}\n",
    "\n",
    "with open(os.path.join(PROCESSED_DIR, 'dataset.yaml'), 'w') as f:\n",
    "    yaml.dump(dataset_config, f)\n",
    "\n",
    "print(\"Chuẩn bị dataset hoàn tất.\")\n",
    "\n",
    "# Tải model YOLOv5 pre-trained (sử dụng phiên bản nano)\n",
    "model = YOLO('yolov5n.pt')\n",
    "\n",
    "# Thiết lập tham số training\n",
    "model.train(\n",
    "    data=os.path.join(PROCESSED_DIR, 'dataset.yaml'),\n",
    "    epochs=50,\n",
    "    imgsz=640,\n",
    "    batch=16,\n",
    "    workers=2,\n",
    "    device='cpu',  # Sử dụng CPU thay vì GPU\n",
    "    patience=10,\n",
    "    save=True,\n",
    "    project=MODEL_DIR,\n",
    "    name='number_detection',\n",
    "    optimizer='Adam',\n",
    "    lr0=0.001,\n",
    "    weight_decay=0.0005,\n",
    "    warmup_epochs=3,\n",
    "    mosaic=0.5,\n",
    "    cache=False\n",
    ")\n",
    "\n",
    "# Đánh giá model\n",
    "results = model.val()\n",
    "print(results)\n",
    "\n",
    "# Lưu model đã train\n",
    "model.save(os.path.join(MODEL_DIR, 'number_detection_best.pt'))\n",
    "\n",
    "print(\"Hoàn tất training. Model đã được lưu tại:\", MODEL_DIR)"
   ]
  }
 ],
 "metadata": {
  "kernelspec": {
   "display_name": "Python 3",
   "language": "python",
   "name": "python3"
  },
  "language_info": {
   "codemirror_mode": {
    "name": "ipython",
    "version": 3
   },
   "file_extension": ".py",
   "mimetype": "text/x-python",
   "name": "python",
   "nbconvert_exporter": "python",
   "pygments_lexer": "ipython3",
   "version": "3.12.6"
  }
 },
 "nbformat": 4,
 "nbformat_minor": 2
}
